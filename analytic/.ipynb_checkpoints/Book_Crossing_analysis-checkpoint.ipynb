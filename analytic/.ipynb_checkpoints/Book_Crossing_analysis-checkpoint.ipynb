{
 "cells": [
  {
   "cell_type": "code",
   "execution_count": 2,
   "metadata": {},
   "outputs": [],
   "source": [
    "%matplotlib inline  \n",
    "import zipfile\n",
    "import numpy as np\n",
    "import pandas as pd\n",
    "import matplotlib.pyplot as plt\n",
    "from scipy.stats import chi2_contingency\n",
    "from scipy.stats import chi2"
   ]
  },
  {
   "cell_type": "code",
   "execution_count": 3,
   "metadata": {},
   "outputs": [
    {
     "name": "stderr",
     "output_type": "stream",
     "text": [
      "b'Skipping line 6452: expected 8 fields, saw 9\\nSkipping line 43667: expected 8 fields, saw 10\\nSkipping line 51751: expected 8 fields, saw 9\\n'\n",
      "b'Skipping line 92038: expected 8 fields, saw 9\\nSkipping line 104319: expected 8 fields, saw 9\\nSkipping line 121768: expected 8 fields, saw 9\\n'\n",
      "b'Skipping line 144058: expected 8 fields, saw 9\\nSkipping line 150789: expected 8 fields, saw 9\\nSkipping line 157128: expected 8 fields, saw 9\\nSkipping line 180189: expected 8 fields, saw 9\\nSkipping line 185738: expected 8 fields, saw 9\\n'\n",
      "b'Skipping line 209388: expected 8 fields, saw 9\\nSkipping line 220626: expected 8 fields, saw 9\\nSkipping line 227933: expected 8 fields, saw 11\\nSkipping line 228957: expected 8 fields, saw 10\\nSkipping line 245933: expected 8 fields, saw 9\\nSkipping line 251296: expected 8 fields, saw 9\\nSkipping line 259941: expected 8 fields, saw 9\\nSkipping line 261529: expected 8 fields, saw 9\\n'\n"
     ]
    }
   ],
   "source": [
    "with zipfile.ZipFile(\"data/BX-CSV-Dump.zip\") as z:\n",
    "    with z.open(\"BX-Book-Ratings.csv\") as r, z.open(\"BX-Books.csv\") as b, z.open(\"BX-Users.csv\") as u:\n",
    "        rating = pd.read_csv(r, sep=\";\", error_bad_lines=False, encoding=\"latin-1\")\n",
    "        rating.columns = [\"userID\", \"ISBN\", \"bookRating\"]\n",
    "        \n",
    "        book = pd.read_csv(b, sep=\";\", error_bad_lines=False, encoding=\"latin-1\")\n",
    "        book.columns = [\"ISBN\",\"bookTitle\",\"bookAuthor\",\"yearOfPublication\",\"publisher\",\"imageUrlS\",\"imageUrlM\",\"imageUrlL\"]\n",
    "        \n",
    "        user = pd.read_csv(u, sep=\";\", error_bad_lines=False, encoding=\"latin-1\")\n",
    "        user.columns = [\"userID\",\"location\",\"age\"]"
   ]
  },
  {
   "cell_type": "markdown",
   "metadata": {},
   "source": [
    "# Problem of this dataset\n",
    "\n",
    "- Age that users provided is not reliable since these are online accounts with no regulation. (age that higher than 100 or even 200)\n",
    "- There are many problems with regex (\\\") that cause columns to be shifted. This results into wrong placements of attributes"
   ]
  },
  {
   "cell_type": "markdown",
   "metadata": {},
   "source": [
    "## Data Cleaning"
   ]
  },
  {
   "cell_type": "code",
   "execution_count": 4,
   "metadata": {},
   "outputs": [
    {
     "name": "stdout",
     "output_type": "stream",
     "text": [
      "<class 'pandas.core.frame.DataFrame'>\n",
      "RangeIndex: 278858 entries, 0 to 278857\n",
      "Data columns (total 3 columns):\n",
      "userID      278858 non-null int64\n",
      "location    278858 non-null object\n",
      "age         168096 non-null float64\n",
      "dtypes: float64(1), int64(1), object(1)\n",
      "memory usage: 6.4+ MB\n",
      "None\n",
      "<class 'pandas.core.frame.DataFrame'>\n",
      "RangeIndex: 271360 entries, 0 to 271359\n",
      "Data columns (total 8 columns):\n",
      "ISBN                 271360 non-null object\n",
      "bookTitle            271360 non-null object\n",
      "bookAuthor           271359 non-null object\n",
      "yearOfPublication    271360 non-null int64\n",
      "publisher            271358 non-null object\n",
      "imageUrlS            271360 non-null object\n",
      "imageUrlM            271360 non-null object\n",
      "imageUrlL            271360 non-null object\n",
      "dtypes: int64(1), object(7)\n",
      "memory usage: 16.6+ MB\n",
      "None\n"
     ]
    }
   ],
   "source": [
    "# Check dataframe info() => convert to corresponding datatype\n",
    "book[\"yearOfPublication\"] = book[\"yearOfPublication\"].astype(\"int64\")\n",
    "# Check dataframe info() => convert to corresponding datatype\n",
    "user[\"age\"] = user[\"age\"].astype(float)\n",
    "print(user.info())\n",
    "print(book.info())"
   ]
  },
  {
   "cell_type": "code",
   "execution_count": 4,
   "metadata": {},
   "outputs": [],
   "source": [
    "def chi_square_test(col1, col2):\n",
    "    # Are Author and Age independent from each other?\n",
    "    stat, p_value, dof, expected = chi2_contingency([col1, col2])\n",
    "    print('Degree of Freedom=%d' % dof)\n",
    "    # interpret test-statistic\n",
    "    prob = 0.95\n",
    "    critical = chi2.ppf(prob, dof)\n",
    "    print('probability=%.3f, critical=%.3f, stat=%.3f' % (prob, critical, stat))\n",
    "    if abs(stat) >= critical:\n",
    "        print('Dependent (reject H0)')\n",
    "    else:\n",
    "        print('Independent (fail to reject H0)')\n",
    "    # interpret p-value\n",
    "    alpha = 1.0 - prob\n",
    "    print('significance=%.3f, p=%.3f' % (alpha, p_value))\n",
    "    if p_value <= alpha:\n",
    "        print('Dependent (reject H0)')\n",
    "    else:\n",
    "        print('Independent (fail to reject H0)')"
   ]
  },
  {
   "cell_type": "code",
   "execution_count": null,
   "metadata": {},
   "outputs": [],
   "source": []
  },
  {
   "cell_type": "markdown",
   "metadata": {},
   "source": [
    "# Question 1: Do old ppl tend to read more compare to young ppl?\n",
    "## Hypothesis: \n",
    "- Yes. Young generation prefer interacting with smartphone to books.\n",
    "\n",
    "## How:\n",
    "- Merge user and rating table by userID in rating table (only keep users that have rated any books)\n",
    "- Remove users in user table with Age NaN (drop)\n",
    "- Count group by age\n",
    "- Draw histogram"
   ]
  },
  {
   "cell_type": "code",
   "execution_count": 113,
   "metadata": {},
   "outputs": [],
   "source": [
    "# Merge user and rating table by userID in rating table (left)\n",
    "combined_user_rating = rating.merge(user, on='userID', how='left')\n",
    "# For simplicity, we convert 0 to NaN to apply dropna()\n",
    "combined_user_rating = combined_user_rating.replace(0,np.nan) \n",
    "# Remove NaN values by age and bookRating \n",
    "combined_user_rating_with_age_and_rating = combined_user_rating.dropna()"
   ]
  },
  {
   "cell_type": "code",
   "execution_count": 114,
   "metadata": {},
   "outputs": [],
   "source": [
    "frequency_table_by_age = combined_user_rating_with_age_and_rating[\"age\"].value_counts().sort_index()\n",
    "ages = frequency_table_by_age.index.values\n",
    "frequency = frequency_table_by_age.values"
   ]
  },
  {
   "cell_type": "code",
   "execution_count": 49,
   "metadata": {},
   "outputs": [
    {
     "data": {
      "text/plain": [
       "<matplotlib.legend.Legend at 0x2552a488eb8>"
      ]
     },
     "execution_count": 49,
     "metadata": {},
     "output_type": "execute_result"
    },
    {
     "data": {
      "image/png": "[encoded data removed]",
      "text/plain": [
       "<Figure size 1440x504 with 1 Axes>"
      ]
     },
     "metadata": {},
     "output_type": "display_data"
    }
   ],
   "source": [
    "# Draw history of how frequency ppl read depends on age\n",
    "fig = plt.figure(figsize=(20, 7))\n",
    "ax = fig.add_subplot(132)\n",
    "ax.plot(ages, frequency, color=(\"red\"), label=(\"age\"))\n",
    "ax.set_title(\"How frequent people read books by age?\")\n",
    "ax.set_xlabel(\"age\")\n",
    "ax.set_ylabel(\"frequency\")\n",
    "ax.legend(loc='upper left')"
   ]
  },
  {
   "cell_type": "markdown",
   "metadata": {},
   "source": [
    "# Question 1: Do old ppl tend to read more compare to young ppl?\n",
    "## Hypothesis: \n",
    "- Yes. Young generation prefer interacting with smartphone to books.\n",
    "\n",
    "## Results:\n",
    "- Based on chi-square, age and frequency of reading are dependent on each other (good hypothesis)\n",
    "- Since the graph is slightly positively skewd, we reject our hypothesis. It seems like, based on \n",
    "this dataset, young adult (between 25 and 40) read alot.\n",
    "- Perhaps this dataset is collected in 2004 which is the pre-smartphone period (after 2007) :)."
   ]
  },
  {
   "cell_type": "code",
   "execution_count": null,
   "metadata": {},
   "outputs": [],
   "source": []
  },
  {
   "cell_type": "markdown",
   "metadata": {},
   "source": [
    "# Question 2: How do our top 5 authors appeal to different groups of generation?\n",
    "## Hypothesis: \n",
    "- They are dependent since ppl at different generation prefer different author \n",
    "(perhaps he/she writes books with genre or content suitable with particular age)\n",
    "## How:\n",
    "- 123"
   ]
  },
  {
   "cell_type": "code",
   "execution_count": 6,
   "metadata": {},
   "outputs": [],
   "source": [
    "# Merge book and rating table by ISBN\n",
    "combined_user_rating = rating.merge(book, on='ISBN', how='left')\n",
    "combined_user_book_rating = combined_user_rating.merge(user, on='userID', how='left')\n",
    "removed_columns = [\"imageUrlS\", \"imageUrlM\", \"imageUrlL\", \"publisher\", 'location']\n",
    "combined_user_book_rating.drop(removed_columns, axis=1, inplace=True)\n",
    "combined_user_book_rating.dropna(inplace=True)\n",
    "\n",
    "RATE_THRESHOLD = 6\n",
    "combined_user_book_rating_with_condition = combined_user_book_rating.query(\"bookRating >= @RATE_THRESHOLD and age <= 80\")"
   ]
  },
  {
   "cell_type": "code",
   "execution_count": 97,
   "metadata": {},
   "outputs": [],
   "source": [
    "# Find the top 5 authors that has been receivng good ratings(>=6) from user\n",
    "top5_authors = combined_user_book_rating_with_condition['bookAuthor'].value_counts().nlargest(5).index\n",
    "# Query our dataframe to contain only these top 5 authors\n",
    "x = combined_user_book_rating_with_condition.query(\"bookAuthor in @top5_authors\")"
   ]
  },
  {
   "cell_type": "code",
   "execution_count": 105,
   "metadata": {},
   "outputs": [],
   "source": [
    "age_groups_series = pd.cut(x[\"age\"], bins=5, precision=0, include_lowest=False)\n",
    "authors_series = x['bookAuthor'].astype('category')\n",
    "\n",
    "assert len(age_groups_series) == len(authors_series)\n",
    "contigency_age_author = pd.crosstab(index=age_groups_series, columns=authors_series,\n",
    "                                    margins=True,\n",
    "                                    margins_name=\"All\")   # Include row and column totals\n",
    "# contigency_age_author.columns = [a for a in top5_authors] + [\"rowtotal\"]\n",
    "# contigency_age_author.index= [[g.left, g.right] for g in age_groups_series.unique()] + [\"coltotal\"]"
   ]
  },
  {
   "cell_type": "code",
   "execution_count": 106,
   "metadata": {},
   "outputs": [
    {
     "data": {
      "text/html": [
       "<div>\n",
       "<style scoped>\n",
       "    .dataframe tbody tr th:only-of-type {\n",
       "        vertical-align: middle;\n",
       "    }\n",
       "\n",
       "    .dataframe tbody tr th {\n",
       "        vertical-align: top;\n",
       "    }\n",
       "\n",
       "    .dataframe thead th {\n",
       "        text-align: right;\n",
       "    }\n",
       "</style>\n",
       "<table border=\"1\" class=\"dataframe\">\n",
       "  <thead>\n",
       "    <tr style=\"text-align: right;\">\n",
       "      <th>bookAuthor</th>\n",
       "      <th>J. K. Rowling</th>\n",
       "      <th>James Patterson</th>\n",
       "      <th>John Grisham</th>\n",
       "      <th>Nora Roberts</th>\n",
       "      <th>Stephen King</th>\n",
       "      <th>All</th>\n",
       "    </tr>\n",
       "    <tr>\n",
       "      <th>age</th>\n",
       "      <th></th>\n",
       "      <th></th>\n",
       "      <th></th>\n",
       "      <th></th>\n",
       "      <th></th>\n",
       "      <th></th>\n",
       "    </tr>\n",
       "  </thead>\n",
       "  <tbody>\n",
       "    <tr>\n",
       "      <th>(16.0, 32.0]</th>\n",
       "      <td>107</td>\n",
       "      <td>21</td>\n",
       "      <td>6</td>\n",
       "      <td>30</td>\n",
       "      <td>44</td>\n",
       "      <td>208</td>\n",
       "    </tr>\n",
       "    <tr>\n",
       "      <th>(32.0, 47.0]</th>\n",
       "      <td>703</td>\n",
       "      <td>385</td>\n",
       "      <td>467</td>\n",
       "      <td>444</td>\n",
       "      <td>1460</td>\n",
       "      <td>3459</td>\n",
       "    </tr>\n",
       "    <tr>\n",
       "      <th>(47.0, 63.0]</th>\n",
       "      <td>412</td>\n",
       "      <td>565</td>\n",
       "      <td>618</td>\n",
       "      <td>925</td>\n",
       "      <td>1180</td>\n",
       "      <td>3700</td>\n",
       "    </tr>\n",
       "    <tr>\n",
       "      <th>(63.0, 79.0]</th>\n",
       "      <td>100</td>\n",
       "      <td>345</td>\n",
       "      <td>295</td>\n",
       "      <td>285</td>\n",
       "      <td>358</td>\n",
       "      <td>1383</td>\n",
       "    </tr>\n",
       "    <tr>\n",
       "      <th>(-0.1, 16.0]</th>\n",
       "      <td>8</td>\n",
       "      <td>51</td>\n",
       "      <td>63</td>\n",
       "      <td>53</td>\n",
       "      <td>38</td>\n",
       "      <td>213</td>\n",
       "    </tr>\n",
       "    <tr>\n",
       "      <th>All</th>\n",
       "      <td>1330</td>\n",
       "      <td>1367</td>\n",
       "      <td>1449</td>\n",
       "      <td>1737</td>\n",
       "      <td>3080</td>\n",
       "      <td>8963</td>\n",
       "    </tr>\n",
       "  </tbody>\n",
       "</table>\n",
       "</div>"
      ],
      "text/plain": [
       "bookAuthor    J. K. Rowling  James Patterson  John Grisham  Nora Roberts  \\\n",
       "age                                                                        \n",
       "(16.0, 32.0]            107               21             6            30   \n",
       "(32.0, 47.0]            703              385           467           444   \n",
       "(47.0, 63.0]            412              565           618           925   \n",
       "(63.0, 79.0]            100              345           295           285   \n",
       "(-0.1, 16.0]              8               51            63            53   \n",
       "All                    1330             1367          1449          1737   \n",
       "\n",
       "bookAuthor    Stephen King   All  \n",
       "age                               \n",
       "(16.0, 32.0]            44   208  \n",
       "(32.0, 47.0]          1460  3459  \n",
       "(47.0, 63.0]          1180  3700  \n",
       "(63.0, 79.0]           358  1383  \n",
       "(-0.1, 16.0]            38   213  \n",
       "All                   3080  8963  "
      ]
     },
     "execution_count": 106,
     "metadata": {},
     "output_type": "execute_result"
    }
   ],
   "source": [
    "contigency_age_author"
   ]
  },
  {
   "cell_type": "code",
   "execution_count": 109,
   "metadata": {},
   "outputs": [
    {
     "data": {
      "text/html": [
       "<div>\n",
       "<style scoped>\n",
       "    .dataframe tbody tr th:only-of-type {\n",
       "        vertical-align: middle;\n",
       "    }\n",
       "\n",
       "    .dataframe tbody tr th {\n",
       "        vertical-align: top;\n",
       "    }\n",
       "\n",
       "    .dataframe thead th {\n",
       "        text-align: right;\n",
       "    }\n",
       "</style>\n",
       "<table border=\"1\" class=\"dataframe\">\n",
       "  <thead>\n",
       "    <tr style=\"text-align: right;\">\n",
       "      <th>bookAuthor</th>\n",
       "      <th>J. K. Rowling</th>\n",
       "      <th>James Patterson</th>\n",
       "      <th>John Grisham</th>\n",
       "      <th>Nora Roberts</th>\n",
       "      <th>Stephen King</th>\n",
       "      <th>All</th>\n",
       "    </tr>\n",
       "    <tr>\n",
       "      <th>age</th>\n",
       "      <th></th>\n",
       "      <th></th>\n",
       "      <th></th>\n",
       "      <th></th>\n",
       "      <th></th>\n",
       "      <th></th>\n",
       "    </tr>\n",
       "  </thead>\n",
       "  <tbody>\n",
       "    <tr>\n",
       "      <th>(16.0, 32.0]</th>\n",
       "      <td>0.514423</td>\n",
       "      <td>0.100962</td>\n",
       "      <td>0.028846</td>\n",
       "      <td>0.144231</td>\n",
       "      <td>0.211538</td>\n",
       "      <td>1.0</td>\n",
       "    </tr>\n",
       "    <tr>\n",
       "      <th>(32.0, 47.0]</th>\n",
       "      <td>0.203238</td>\n",
       "      <td>0.111304</td>\n",
       "      <td>0.135010</td>\n",
       "      <td>0.128361</td>\n",
       "      <td>0.422087</td>\n",
       "      <td>1.0</td>\n",
       "    </tr>\n",
       "    <tr>\n",
       "      <th>(47.0, 63.0]</th>\n",
       "      <td>0.111351</td>\n",
       "      <td>0.152703</td>\n",
       "      <td>0.167027</td>\n",
       "      <td>0.250000</td>\n",
       "      <td>0.318919</td>\n",
       "      <td>1.0</td>\n",
       "    </tr>\n",
       "    <tr>\n",
       "      <th>(63.0, 79.0]</th>\n",
       "      <td>0.072307</td>\n",
       "      <td>0.249458</td>\n",
       "      <td>0.213304</td>\n",
       "      <td>0.206074</td>\n",
       "      <td>0.258858</td>\n",
       "      <td>1.0</td>\n",
       "    </tr>\n",
       "    <tr>\n",
       "      <th>(-0.1, 16.0]</th>\n",
       "      <td>0.037559</td>\n",
       "      <td>0.239437</td>\n",
       "      <td>0.295775</td>\n",
       "      <td>0.248826</td>\n",
       "      <td>0.178404</td>\n",
       "      <td>1.0</td>\n",
       "    </tr>\n",
       "    <tr>\n",
       "      <th>All</th>\n",
       "      <td>0.148388</td>\n",
       "      <td>0.152516</td>\n",
       "      <td>0.161665</td>\n",
       "      <td>0.193797</td>\n",
       "      <td>0.343635</td>\n",
       "      <td>1.0</td>\n",
       "    </tr>\n",
       "  </tbody>\n",
       "</table>\n",
       "</div>"
      ],
      "text/plain": [
       "bookAuthor    J. K. Rowling  James Patterson  John Grisham  Nora Roberts  \\\n",
       "age                                                                        \n",
       "(16.0, 32.0]       0.514423         0.100962      0.028846      0.144231   \n",
       "(32.0, 47.0]       0.203238         0.111304      0.135010      0.128361   \n",
       "(47.0, 63.0]       0.111351         0.152703      0.167027      0.250000   \n",
       "(63.0, 79.0]       0.072307         0.249458      0.213304      0.206074   \n",
       "(-0.1, 16.0]       0.037559         0.239437      0.295775      0.248826   \n",
       "All                0.148388         0.152516      0.161665      0.193797   \n",
       "\n",
       "bookAuthor    Stephen King  All  \n",
       "age                              \n",
       "(16.0, 32.0]      0.211538  1.0  \n",
       "(32.0, 47.0]      0.422087  1.0  \n",
       "(47.0, 63.0]      0.318919  1.0  \n",
       "(63.0, 79.0]      0.258858  1.0  \n",
       "(-0.1, 16.0]      0.178404  1.0  \n",
       "All               0.343635  1.0  "
      ]
     },
     "execution_count": 109,
     "metadata": {},
     "output_type": "execute_result"
    }
   ],
   "source": [
    "# To get the proportion of counts along each row divide by the row totals\n",
    "row_total = contigency_age_author[\"All\"]\n",
    "contigency_age_author.div(row_total,\n",
    "                          axis=0)"
   ]
  },
  {
   "cell_type": "code",
   "execution_count": null,
   "metadata": {},
   "outputs": [],
   "source": [
    "'''\n",
    "Question: Given author's name, what is the age range of our readers? P(age|author)\n",
    "Result: \n",
    "- Interesting. It seems like young readers (16-32) prefers book written by J.K Rowling\n",
    "(the author of Harry Potter =.=) but this tendency drops in older readers.\n",
    "'''\n",
    "# Draw graph"
   ]
  },
  {
   "cell_type": "code",
   "execution_count": 110,
   "metadata": {},
   "outputs": [],
   "source": [
    "# # To get the proportion of counts along each column divide by the column totals\n",
    "# column_total = contigency_age_author.loc[\"All\"]\n",
    "# contigency_age_author/column_total\n",
    "'''\n",
    "Question: Given author's name, what is the age range of our readers? P(age|author)\n",
    "Result: \n",
    "- These results are not useful for us because the frequency \n",
    "based on readers' age are not uniform. (Refer to question 1)\n",
    "'''"
   ]
  },
  {
   "cell_type": "markdown",
   "metadata": {},
   "source": [
    "# Question 3: Are yearOfPublication and Age independent from each other\n",
    "## Hypothesis:\n",
    "- Idk really, old ppl tends to read old books? (doesn't sound plausible ryte =.=)\n",
    "\n",
    "## How:\n",
    "- Merge book and rating table by ISBN in rating table (only keep books have been rated)\n",
    "- Handle Age NaN (drop)\n",
    "- Drop Rating that rated by NaN age user.\n",
    "- Chi-square test"
   ]
  },
  {
   "cell_type": "code",
   "execution_count": null,
   "metadata": {},
   "outputs": [],
   "source": [
    "# Start here"
   ]
  },
  {
   "cell_type": "code",
   "execution_count": null,
   "metadata": {},
   "outputs": [],
   "source": []
  },
  {
   "cell_type": "markdown",
   "metadata": {},
   "source": [
    "# Question 4: Recommend Books using KNN with\n",
    "\n",
    "## How\n",
    "- Data includes: [userID, ISBN, bookRating, bookTitle]\n",
    "- We only includes book that has at least 50 ratings (quantile > 75%) (.quantile(np.arange(0.9, 1., 0.1)))\n",
    "- Create pivot with row=userID, col=ISBN"
   ]
  },
  {
   "cell_type": "code",
   "execution_count": 199,
   "metadata": {},
   "outputs": [],
   "source": [
    "# Only keep users that have rated any books (scaled by 1-10)\n",
    "rating_with_no_zero = rating.query(\"bookRating > 0\")\n",
    "# Merge book and rating table by ISBN\n",
    "combined_book_rating = rating_with_no_zero.merge(book, on='ISBN', how='left')\n",
    "drop_columns = ['yearOfPublication', 'bookAuthor', 'publisher', 'imageUrlS', 'imageUrlM', 'imageUrlL']\n",
    "combined_book_rating.drop(drop_columns, axis=1, inplace=True)\n",
    "combined_book_rating.dropna(axis=0, subset=['bookTitle'], inplace=True)"
   ]
  },
  {
   "cell_type": "code",
   "execution_count": 200,
   "metadata": {},
   "outputs": [],
   "source": [
    "rating_withCount = (combined_book_rating.\n",
    "                    groupby(by=['ISBN'])['bookRating'].\n",
    "                    count().\n",
    "                    reset_index().\n",
    "                    rename(columns={'bookRating': 'totalRatingCount'})\n",
    "                   )\n",
    "book_rating_withCount = combined_book_rating.merge(rating_withCount, left_on=\"ISBN\", right_on=\"ISBN\", how=\"left\")"
   ]
  },
  {
   "cell_type": "code",
   "execution_count": 202,
   "metadata": {},
   "outputs": [
    {
     "data": {
      "text/plain": [
       "0.90     4.0\n",
       "0.91     5.0\n",
       "0.92     5.0\n",
       "0.93     6.0\n",
       "0.94     6.0\n",
       "0.95     7.0\n",
       "0.96     9.0\n",
       "0.97    11.0\n",
       "0.98    15.0\n",
       "0.99    24.0\n",
       "Name: totalRatingCount, dtype: float64"
      ]
     },
     "execution_count": 202,
     "metadata": {},
     "output_type": "execute_result"
    }
   ],
   "source": [
    "# Find all highest number of ratings (above 90 quantile) \n",
    "rating_withCount[\"totalRatingCount\"].quantile(np.arange(0.9, 1.0, 0.01))"
   ]
  },
  {
   "cell_type": "code",
   "execution_count": 203,
   "metadata": {},
   "outputs": [],
   "source": [
    "popularity_threshold = 24\n",
    "rating_popular_book = book_rating_withCount.query('totalRatingCount >= @popularity_threshold')"
   ]
  },
  {
   "cell_type": "code",
   "execution_count": 204,
   "metadata": {},
   "outputs": [],
   "source": [
    "user_rating_pivot = rating_popular_book.pivot(index='ISBN', columns='userID', values='bookRating').fillna(0.)\n",
    "user_rating_matrix = user_rating_pivot.values"
   ]
  },
  {
   "cell_type": "code",
   "execution_count": 206,
   "metadata": {},
   "outputs": [
    {
     "data": {
      "text/plain": [
       "NearestNeighbors(algorithm='brute', leaf_size=30, metric='cosine',\n",
       "         metric_params=None, n_jobs=1, n_neighbors=5, p=2, radius=1.0)"
      ]
     },
     "execution_count": 206,
     "metadata": {},
     "output_type": "execute_result"
    }
   ],
   "source": [
    "from sklearn.neighbors import NearestNeighbors\n",
    "\n",
    "model_knn = NearestNeighbors(metric=\"cosine\", algorithm='brute')\n",
    "model_knn.fit(user_rating_matrix)"
   ]
  },
  {
   "cell_type": "code",
   "execution_count": 207,
   "metadata": {},
   "outputs": [
    {
     "name": "stdout",
     "output_type": "stream",
     "text": [
      "Recommendations for Cry to Heaven: \n",
      "\n",
      "1, The Tale of the Body Thief (Vampire Chronicles (Paperback)), with distance of 0.8642365563202095\n",
      "2, Feast of All Saints, with distance of 0.8650125734275367\n",
      "3, The Mummy or Ramses the Damned, with distance of 0.8683354067526392\n",
      "4, Belinda, with distance of 0.8698477112893227\n",
      "5, Lasher: Lives of the Mayfair Witches (Lives of the Mayfair Witches), with distance of 0.8837420158810253\n"
     ]
    }
   ],
   "source": [
    "books = user_rating_matrix.shape[0]\n",
    "book_index = np.random.choice(books)\n",
    "chosen_book = np.expand_dims(user_rating_matrix[book_index, :], axis=0)\n",
    "\n",
    "distances, indicies = model_knn.kneighbors(chosen_book, n_neighbors=6)\n",
    "for i in range(0, len(distances.flatten())):\n",
    "    if i == 0:\n",
    "        ISBN = user_rating_pivot.index[book_index]\n",
    "        recommend_title = book_rating_withCount.query(\"ISBN == @ISBN\")['bookTitle'].values[0]\n",
    "        print('Recommendations for {}: \\n'.format(recommend_title))\n",
    "    else:\n",
    "        ISBN = user_rating_pivot.index[indicies.flatten()[i]]\n",
    "        recommend_title = book_rating_withCount.query(\"ISBN == @ISBN\")['bookTitle'].values[0]\n",
    "        distance = distances.flatten()[i]\n",
    "        print('{0}, {1}, with distance of {2}'.format(i, recommend_title, distance))"
   ]
  },
  {
   "cell_type": "code",
   "execution_count": null,
   "metadata": {},
   "outputs": [],
   "source": []
  }
 ],
 "metadata": {
  "kernelspec": {
   "display_name": "Python 3",
   "language": "python",
   "name": "python3"
  },
  "language_info": {
   "codemirror_mode": {
    "name": "ipython",
    "version": 3
   },
   "file_extension": ".py",
   "mimetype": "text/x-python",
   "name": "python",
   "nbconvert_exporter": "python",
   "pygments_lexer": "ipython3",
   "version": "3.6.5"
  }
 },
 "nbformat": 4,
 "nbformat_minor": 2
}
